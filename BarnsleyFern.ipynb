{
 "cells": [
  {
   "cell_type": "code",
   "execution_count": null,
   "id": "cbff669d",
   "metadata": {},
   "outputs": [],
   "source": [
    "# Needed packages to make this codebase working\n",
    "!pip install numpy matplotlib"
   ]
  },
  {
   "cell_type": "code",
   "execution_count": 2,
   "id": "9bb812bf",
   "metadata": {
    "scrolled": false
   },
   "outputs": [
    {
     "name": "stderr",
     "output_type": "stream",
     "text": [
      "C:\\Users\\yacoo\\AppData\\Local\\Temp\\ipykernel_24904\\1643791709.py:82: UserWarning: No data for colormapping provided via 'c'. Parameters 'cmap' will be ignored\n",
      "  ax.scatter(fern_3d_pts[:, 0], fern_3d_pts[:, 1], fern_3d_pts[:, 2], c='white', cmap=cm.viridis, s=5, alpha=0.5)\n",
      "C:\\Users\\yacoo\\AppData\\Local\\Temp\\ipykernel_24904\\1643791709.py:102: UserWarning: No data for colormapping provided via 'c'. Parameters 'cmap' will be ignored\n",
      "  ax.scatter(fern_3d_pts[:, 0], fern_3d_pts[:, 1], fern_3d_pts[:, 2], c='white', cmap=cm.viridis, s=5, alpha=0.5)\n",
      "C:\\Users\\yacoo\\AppData\\Local\\Temp\\ipykernel_24904\\1643791709.py:121: UserWarning: No data for colormapping provided via 'c'. Parameters 'cmap' will be ignored\n",
      "  ax.scatter(fern_3d_pts[:, 0], fern_3d_pts[:, 1], fern_3d_pts[:, 2], c='white', cmap=cm.viridis, s=5, alpha=0.5)\n"
     ]
    },
    {
     "data": {
      "text/plain": [
       "'\\nNote:\\nThe image frames were stitched together using FFMPEG\\nMicrosoft Clipchamp was used to render and increase the speed of the video\\nLumaAI was used to create an interactive 3D model\\n'"
      ]
     },
     "execution_count": 2,
     "metadata": {},
     "output_type": "execute_result"
    }
   ],
   "source": [
    "# Imports\n",
    "import numpy as np\n",
    "import matplotlib.pyplot as plt\n",
    "import matplotlib.cm as cm\n",
    "import os   # Create a directory to save images if it doesn't exist\n",
    "\n",
    "\"\"\"\n",
    "The vector components that represent the fractal\n",
    "More information can be found here: https://en.wikipedia.org/wiki/Barnsley_fern\n",
    "\"\"\"\n",
    "def function1(x, y):\n",
    "    return (0, 0.16 * y)\n",
    "\n",
    "def function2(x, y):\n",
    "    return (0.85 * x + 0.04 * y, -0.04 * x + 0.85 * y + 1.6)\n",
    "\n",
    "def function3(x, y):\n",
    "    return (0.20 * x - 0.26 * y, 0.23 * x + 0.22 * y + 1.6)\n",
    "\n",
    "def function4(x, y):\n",
    "    return (-0.15 * x + 0.28 * y, 0.26 * x + 0.24 * y + 0.44)\n",
    "\n",
    "# Store into list\n",
    "functions = [function1, function2, function3, function4]\n",
    "\n",
    "# Image size\n",
    "WIDTH, HEIGHT = 1920, 1080\n",
    "DATAPOINTS = 50000\n",
    "x, y = 0, 0\n",
    "fern_image = np.zeros((HEIGHT, WIDTH, 3))  # Use 3 channels for RGB colors\n",
    "    \n",
    "# Set the entire background to black\n",
    "fern_image[:] = [0, 0, 0]\n",
    "\n",
    "if not os.path.exists(\"images/individual\") or not os.path.exists(\"images/3d\"):\n",
    "    os.makedirs(\"images/individual\")\n",
    "    os.makedirs(\"images/demo\")\n",
    "    os.makedirs(\"images/3d/low\")\n",
    "    os.makedirs(\"images/3d/medium\")\n",
    "    os.makedirs(\"images/3d/high\")\n",
    "    \n",
    "fern_3d_pts = []\n",
    "    \n",
    "for i in range(DATAPOINTS):\n",
    "    function = np.random.choice(functions, p=[0.01, 0.85, 0.07, 0.07])\n",
    "    x, y = function(x, y)\n",
    "    shift_x, shift_y = int(WIDTH / 2 + x * WIDTH / 10), int(y * HEIGHT / 12)\n",
    "    \n",
    "    fern_3d_pts.append((shift_x, shift_y, i))\n",
    "\n",
    "    # Set each shifted pixel to be white\n",
    "    fern_image[shift_y, shift_x] = [255, 255, 255]\n",
    "\n",
    "    # Normalize the image\n",
    "    fern_image_normalized = fern_image / 255.0\n",
    "\n",
    "    # Save the image\n",
    "    filename = f\"images/individual/fern_point_{i:05d}.png\"\n",
    "    plt.imsave(filename, fern_image_normalized, dpi=300)\n",
    "\n",
    "plt.close()\n",
    "\n",
    "\"\"\"\n",
    "The 3D plot being created can be found below\n",
    "Information on the max resolution can be found here ~ https://video.stackexchange.com/questions/21000/largest-input-image-size-when-encoding-a-video\n",
    "\"\"\"\n",
    "fern_3d_pts = np.array(fern_3d_pts)\n",
    "\n",
    "fig = plt.figure(figsize=(75, 75))\n",
    "ax = fig.add_subplot(111, projection='3d')\n",
    "ax.set_facecolor('black')\n",
    "ax.set_xticks([])\n",
    "ax.set_yticks([])\n",
    "ax.set_zticks([])\n",
    "# ax.grid(False)\n",
    "# ax.xaxis.pane.fill = False\n",
    "# ax.yaxis.pane.fill = False\n",
    "# ax.zaxis.pane.fill = False\n",
    "# plt.axis('off')\n",
    "\n",
    "for angle in range(0, 360, 1):\n",
    "    ax.view_init(elev=-45, azim=angle)\n",
    "    ax.scatter(fern_3d_pts[:, 0], fern_3d_pts[:, 1], fern_3d_pts[:, 2], c='white', cmap=cm.viridis, s=5, alpha=0.5)\n",
    "    filename = f\"images/3d/low/fern_3d_low_{angle:03d}.png\"\n",
    "    plt.savefig(filename, dpi=57)\n",
    "    \n",
    "plt.close()\n",
    "\n",
    "fig = plt.figure(figsize=(75, 75))\n",
    "ax = fig.add_subplot(111, projection='3d')\n",
    "ax.set_facecolor('black')\n",
    "ax.set_xticks([])\n",
    "ax.set_yticks([])\n",
    "ax.set_zticks([])\n",
    "# ax.grid(False)\n",
    "# ax.xaxis.pane.fill = False\n",
    "# ax.yaxis.pane.fill = False\n",
    "# ax.zaxis.pane.fill = False\n",
    "# plt.axis('off')\n",
    "\n",
    "for angle in range(0, 360, 1):\n",
    "    ax.view_init(elev=0, azim=angle)\n",
    "    ax.scatter(fern_3d_pts[:, 0], fern_3d_pts[:, 1], fern_3d_pts[:, 2], c='white', cmap=cm.viridis, s=5, alpha=0.5)\n",
    "    filename = f\"images/3d/medium/fern_3d_medium_{angle:03d}.png\"\n",
    "    plt.savefig(filename, dpi=57)\n",
    "    \n",
    "plt.close()\n",
    "\n",
    "fig = plt.figure(figsize=(75, 75))\n",
    "ax = fig.add_subplot(111, projection='3d')\n",
    "ax.set_facecolor('black')\n",
    "ax.set_xticks([])\n",
    "ax.set_yticks([])\n",
    "ax.set_zticks([])\n",
    "# ax.xaxis.pane.fill = False\n",
    "# ax.yaxis.pane.fill = False\n",
    "# ax.zaxis.pane.fill = False\n",
    "# plt.axis('off')\n",
    "\n",
    "for angle in range(0, 360, 1):\n",
    "    ax.view_init(elev=45, azim=angle)\n",
    "    ax.scatter(fern_3d_pts[:, 0], fern_3d_pts[:, 1], fern_3d_pts[:, 2], c='white', cmap=cm.viridis, s=5, alpha=0.5)\n",
    "    filename = f\"images/3d/high/fern_3d_high_{angle:03d}.png\"\n",
    "    plt.savefig(filename, dpi=57)\n",
    "    \n",
    "plt.close()\n",
    " \n",
    "\"\"\"\n",
    "Note:\n",
    "The image frames were stitched together using FFMPEG\n",
    "Microsoft Clipchamp was used to render and increase the speed of the video\n",
    "LumaAI was used to create an interactive 3D model\n",
    "\"\"\""
   ]
  },
  {
   "cell_type": "code",
   "execution_count": 6,
   "id": "376f0acd",
   "metadata": {},
   "outputs": [
    {
     "data": {
      "text/plain": [
       "CompletedProcess(args=['C:/Program Files/ffmpeg/bin/ffmpeg', '-framerate', '25', '-i', 'C:/Users/yacoo/BarnsleyFernFractalSimulation/images/3d/high/fern_3d_high_%03d.png', 'C:/Users/yacoo/BarnsleyFernFractalSimulation/images/demo/high.mp4'], returncode=0)"
      ]
     },
     "execution_count": 6,
     "metadata": {},
     "output_type": "execute_result"
    }
   ],
   "source": [
    "import subprocess\n",
    "# Run ffmpeg command to create a video from the images\n",
    "subprocess.run([\"C:/Program Files/ffmpeg/bin/ffmpeg\", \"-framerate\", \"25\", \"-i\", f\"C:/Users/yacoo/BarnsleyFernFractalSimulation/images/individual/fern_point_%05d.png\", \"C:/Users/yacoo/BarnsleyFernFractalSimulation/images/demo/BarnsleyFractal.mp4\"])\n",
    "subprocess.run([\"C:/Program Files/ffmpeg/bin/ffmpeg\", \"-framerate\", \"25\", \"-i\", f\"C:/Users/yacoo/BarnsleyFernFractalSimulation/images/3d/low/fern_3d_low_%03d.png\", \"C:/Users/yacoo/BarnsleyFernFractalSimulation/images/demo/low.mp4\"])\n",
    "subprocess.run([\"C:/Program Files/ffmpeg/bin/ffmpeg\", \"-framerate\", \"25\", \"-i\", f\"C:/Users/yacoo/BarnsleyFernFractalSimulation/images/3d/medium/fern_3d_medium_%03d.png\", \"C:/Users/yacoo/BarnsleyFernFractalSimulation/images/demo/medium.mp4\"])\n",
    "subprocess.run([\"C:/Program Files/ffmpeg/bin/ffmpeg\", \"-framerate\", \"25\", \"-i\", f\"C:/Users/yacoo/BarnsleyFernFractalSimulation/images/3d/high/fern_3d_high_%03d.png\", \"C:/Users/yacoo/BarnsleyFernFractalSimulation/images/demo/high.mp4\"])"
   ]
  },
  {
   "cell_type": "code",
   "execution_count": 7,
   "id": "a0895476",
   "metadata": {},
   "outputs": [
    {
     "name": "stdout",
     "output_type": "stream",
     "text": [
      "Success!\n"
     ]
    }
   ],
   "source": [
    "command = [\n",
    "    'C:/Program Files/ffmpeg/bin/ffmpeg',\n",
    "    '-i', 'C:/Users/yacoo/BarnsleyFernFractalSimulation/images/demo/low.mp4',\n",
    "    '-i', 'C:/Users/yacoo/BarnsleyFernFractalSimulation/images/demo/medium.mp4',\n",
    "    '-i', 'C:/Users/yacoo/BarnsleyFernFractalSimulation/images/demo/high.mp4',\n",
    "    '-filter_complex', '[0:v] [1:v] [2:v] concat=n=3:v=1:a=0 [v]',\n",
    "    '-map', '[v]',\n",
    "    'C:/Users/yacoo/BarnsleyFernFractalSimulation/images/demo/combined.mp4'\n",
    "]\n",
    "\n",
    "try:\n",
    "    result = subprocess.run(command, check=True, capture_output=True, text=True)\n",
    "    print(\"Success!\")\n",
    "except subprocess.CalledProcessError as e:\n",
    "    print(\"Error:\", e.stderr)"
   ]
  }
 ],
 "metadata": {
  "kernelspec": {
   "display_name": "Python 3 (ipykernel)",
   "language": "python",
   "name": "python3"
  },
  "language_info": {
   "codemirror_mode": {
    "name": "ipython",
    "version": 3
   },
   "file_extension": ".py",
   "mimetype": "text/x-python",
   "name": "python",
   "nbconvert_exporter": "python",
   "pygments_lexer": "ipython3",
   "version": "3.11.5"
  }
 },
 "nbformat": 4,
 "nbformat_minor": 5
}

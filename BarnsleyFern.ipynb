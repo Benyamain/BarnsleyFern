{
 "cells": [
  {
   "cell_type": "code",
   "execution_count": 2,
   "id": "9bb812bf",
   "metadata": {},
   "outputs": [
    {
     "data": {
      "text/plain": [
       "'\\nNote:\\nThe image frames were stitched together using FFMPEG\\nffmpeg -framerate 25 -i fern_point_%04d.png BarnsleyFern.mp4\\nMicrosoft Clipchamp was used to increase the speed of the video\\n'"
      ]
     },
     "execution_count": 2,
     "metadata": {},
     "output_type": "execute_result"
    }
   ],
   "source": [
    "# Imports\n",
    "import numpy as np\n",
    "import matplotlib.pyplot as plt\n",
    "import matplotlib.cm as cm\n",
    "\n",
    "\"\"\"\n",
    "The vector components that represent the fractal\n",
    "More information can be found here: https://en.wikipedia.org/wiki/Barnsley_fern\n",
    "\"\"\"\n",
    "def function1(x, y):\n",
    "    return (0, 0.16 * y)\n",
    "\n",
    "def function2(x, y):\n",
    "    return (0.85 * x + 0.04 * y, -0.04 * x + 0.85 * y + 1.6)\n",
    "\n",
    "def function3(x, y):\n",
    "    return (0.20 * x - 0.26 * y, 0.23 * x + 0.22 * y + 1.6)\n",
    "\n",
    "def function4(x, y):\n",
    "    return (-0.15 * x + 0.28 * y, 0.26 * x + 0.24 * y + 0.44)\n",
    "\n",
    "# Store into list\n",
    "functions = [function1, function2, function3, function4]\n",
    "\n",
    "# Image size\n",
    "WIDTH, HEIGHT = 1920, 1080\n",
    "DATAPOINTS = 50000\n",
    "x, y = 0, 0\n",
    "fern_image = np.zeros((HEIGHT, WIDTH, 3))  # Use 3 channels for RGB colors\n",
    "    \n",
    "# Set the entire background to black\n",
    "fern_image[:] = [0, 0, 0]\n",
    "\n",
    "# Create a directory to save images if it doesn't exist\n",
    "import os\n",
    "if not os.path.exists(\"images\"):\n",
    "    os.makedirs(\"images\")\n",
    "    \n",
    "for i in range(DATAPOINTS):\n",
    "    function = np.random.choice(functions, p=[0.01, 0.85, 0.07, 0.07])\n",
    "    x, y = function(x, y)\n",
    "    shift_x, shift_y = int(WIDTH / 2 + x * WIDTH / 10), int(y * HEIGHT / 12)\n",
    "\n",
    "    # Set each shifted pixel to be blue\n",
    "    fern_image[shift_y, shift_x] = [0, 0, 255]\n",
    "\n",
    "    # Normalize the image\n",
    "    fern_image_normalized = fern_image / 255.0\n",
    "\n",
    "    # Save the image\n",
    "    filename = f\"images/fern_point_{i:05d}.png\"\n",
    "    plt.imsave(filename, fern_image_normalized, dpi=300)\n",
    "\n",
    "plt.close()\n",
    "    \n",
    "\"\"\"\n",
    "Note:\n",
    "The image frames were stitched together using FFMPEG\n",
    "ffmpeg -framerate 25 -i fern_point_%05d.png BarnsleyFernFractalSimulation.mp4\n",
    "Microsoft Clipchamp was used to increase the speed of the video\n",
    "\"\"\""
   ]
  }
 ],
 "metadata": {
  "kernelspec": {
   "display_name": "Python 3 (ipykernel)",
   "language": "python",
   "name": "python3"
  },
  "language_info": {
   "codemirror_mode": {
    "name": "ipython",
    "version": 3
   },
   "file_extension": ".py",
   "mimetype": "text/x-python",
   "name": "python",
   "nbconvert_exporter": "python",
   "pygments_lexer": "ipython3",
   "version": "3.10.9"
  }
 },
 "nbformat": 4,
 "nbformat_minor": 5
}
